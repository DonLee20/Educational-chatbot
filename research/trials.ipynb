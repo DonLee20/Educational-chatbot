{
 "cells": [
  {
   "cell_type": "code",
   "execution_count": null,
   "id": "520d0a4d",
   "metadata": {},
   "outputs": [],
   "source": [
    "%pwd"
   ]
  },
  {
   "cell_type": "code",
   "execution_count": null,
   "id": "3c79fa4a",
   "metadata": {},
   "outputs": [],
   "source": [
    "import os\n",
    "os.chdir('../')"
   ]
  },
  {
   "cell_type": "code",
   "execution_count": null,
   "id": "1d543896",
   "metadata": {},
   "outputs": [],
   "source": [
    "%pwd"
   ]
  },
  {
   "cell_type": "code",
   "execution_count": null,
   "id": "6e0537ee",
   "metadata": {},
   "outputs": [],
   "source": [
    "from langchain.document_loaders import PyPDFLoader, DirectoryLoader\n",
    "from langchain.text_splitter import RecursiveCharacterTextSplitter\n",
    "from langchain.embeddings import HuggingFaceEmbeddings\n",
    "from langchain.schema import Document\n",
    "from typing import List\n",
    "from dotenv import load_dotenv\n",
    "from pinecone import Pinecone, ServerlessSpec\n",
    "from langchain_pinecone import PineconeVectorStore\n",
    "from langchain.chains import create_retrieval_chain\n",
    "from langchain.chains.combine_documents import create_stuff_documents_chain\n",
    "from langchain_core.prompts import ChatPromptTemplate\n",
    "from langchain_core.language_models.chat_models import BaseChatModel\n",
    "import requests\n",
    "import os\n",
    "import json\n"
   ]
  },
  {
   "cell_type": "code",
   "execution_count": null,
   "id": "8b489564",
   "metadata": {},
   "outputs": [],
   "source": [
    "def pdf_text_extractor(data):\n",
    "    loader = DirectoryLoader(\n",
    "        data,\n",
    "        glob = \"*.pdf\",\n",
    "        loader_cls = PyPDFLoader\n",
    "    )\n",
    "    documents = loader.load()\n",
    "    return documents "
   ]
  },
  {
   "cell_type": "code",
   "execution_count": null,
   "id": "8d372d10",
   "metadata": {},
   "outputs": [],
   "source": [
    "extracted_data = pdf_text_extractor('D:\\CHATBOT-01\\Educational-chatbot\\data')"
   ]
  },
  {
   "cell_type": "code",
   "execution_count": null,
   "id": "12e43a46",
   "metadata": {},
   "outputs": [],
   "source": [
    "extracted_data"
   ]
  },
  {
   "cell_type": "code",
   "execution_count": null,
   "id": "4e3bb813",
   "metadata": {},
   "outputs": [],
   "source": [
    "len(extracted_data)"
   ]
  },
  {
   "cell_type": "code",
   "execution_count": null,
   "id": "7071bae4",
   "metadata": {},
   "outputs": [],
   "source": [
    "from typing import List\n",
    "from langchain.schema import Document"
   ]
  },
  {
   "cell_type": "code",
   "execution_count": null,
   "id": "5975c5e8",
   "metadata": {},
   "outputs": [],
   "source": [
    "def filter_min_docs(docs: List[Document]) -> List[Document]:\n",
    "    min_docs: List[Document] = []\n",
    "    for doc in docs:\n",
    "        src = doc.metadata.get(\"source\")\n",
    "        min_docs.append(\n",
    "            Document(\n",
    "            page_content = doc.page_content,\n",
    "            metadata = {\"source\": src}\n",
    "            )\n",
    "        )\n",
    "    return min_docs\n",
    "        "
   ]
  },
  {
   "cell_type": "code",
   "execution_count": null,
   "id": "c4cee015",
   "metadata": {},
   "outputs": [],
   "source": [
    "min_docs = filter_min_docs(extracted_data)"
   ]
  },
  {
   "cell_type": "code",
   "execution_count": null,
   "id": "a5c0edd4",
   "metadata": {},
   "outputs": [],
   "source": [
    "min_docs"
   ]
  },
  {
   "cell_type": "code",
   "execution_count": null,
   "id": "da58ea7a",
   "metadata": {},
   "outputs": [],
   "source": [
    "def text_split(min_docs):\n",
    "    text_splitter = RecursiveCharacterTextSplitter(\n",
    "        chunk_size = 500,\n",
    "        chunk_overlap = 20\n",
    "    )\n",
    "    texts_chunk = text_splitter.split_documents(min_docs)\n",
    "    return texts_chunk"
   ]
  },
  {
   "cell_type": "code",
   "execution_count": null,
   "id": "d762fbb2",
   "metadata": {},
   "outputs": [],
   "source": [
    "texts_chunk = text_split(min_docs)\n",
    "len(texts_chunk)\n"
   ]
  },
  {
   "cell_type": "code",
   "execution_count": null,
   "id": "0294482c",
   "metadata": {},
   "outputs": [],
   "source": [
    "from langchain.embeddings import HuggingFaceEmbeddings\n",
    "\n",
    "def download_embeddings():\n",
    "    model_name = \"sentence-transformers/all-MiniLM-L6-v2\"\n",
    "    embeddings = HuggingFaceEmbeddings(\n",
    "        model_name=model_name\n",
    "        )\n",
    "    return embeddings\n",
    "\n",
    "embedding = download_embeddings()\n",
    "\n"
   ]
  },
  {
   "cell_type": "code",
   "execution_count": null,
   "id": "b36d1eae",
   "metadata": {},
   "outputs": [],
   "source": [
    "vector = embedding.embed_query(\"Hello world\")\n",
    "vector"
   ]
  },
  {
   "cell_type": "code",
   "execution_count": null,
   "id": "2cdbb556",
   "metadata": {},
   "outputs": [],
   "source": [
    "print(\"length of vector:\", len(vector))"
   ]
  },
  {
   "cell_type": "code",
   "execution_count": null,
   "id": "200b9f44",
   "metadata": {},
   "outputs": [],
   "source": [
    "from dotenv import load_dotenv\n",
    "import os\n",
    "load_dotenv()"
   ]
  },
  {
   "cell_type": "code",
   "execution_count": null,
   "id": "b579550f",
   "metadata": {},
   "outputs": [],
   "source": [
    "PINECONE_API_KEY = os.getenv(\"PINECONE_API_KEY\")\n",
    "DEEPSEEK_API_KEY = os.getenv(\"DEEPSEEK_API_KEY\")\n",
    "\n",
    "os.environ[\"PINECONE_API_KEY\"] = PINECONE_API_KEY\n",
    "os.environ[\"DEEPSEEK_API_KEY\"] = DEEPSEEK_API_KEY"
   ]
  },
  {
   "cell_type": "code",
   "execution_count": null,
   "id": "9e919a4d",
   "metadata": {},
   "outputs": [],
   "source": [
    "print(os.getenv(\"DEEPSEEK_API_KEY\"))\n"
   ]
  },
  {
   "cell_type": "code",
   "execution_count": null,
   "id": "2ded82b6",
   "metadata": {},
   "outputs": [],
   "source": [
    "from pinecone import Pinecone\n",
    "\n",
    "pinecone_api_key = PINECONE_API_KEY\n",
    "\n",
    "pc = Pinecone(api_key=pinecone_api_key)"
   ]
  },
  {
   "cell_type": "code",
   "execution_count": null,
   "id": "028be3ab",
   "metadata": {},
   "outputs": [],
   "source": [
    "pc"
   ]
  },
  {
   "cell_type": "code",
   "execution_count": null,
   "id": "b0fc94ee",
   "metadata": {},
   "outputs": [],
   "source": [
    "from pinecone import ServerlessSpec\n",
    "\n",
    "index_name = \"educational-chatbot\"\n",
    "\n",
    "if not pc.has_index(index_name):\n",
    "    pc.create_index(\n",
    "        name = index_name,\n",
    "        dimension = 384,\n",
    "        metric = \"cosine\",\n",
    "        spec = ServerlessSpec(\n",
    "            cloud = \"aws\", region = \"us-east-1\"\n",
    "            )\n",
    "    )\n",
    "    index = pc.Index(index_name)"
   ]
  },
  {
   "cell_type": "code",
   "execution_count": null,
   "id": "62faab3d",
   "metadata": {},
   "outputs": [],
   "source": [
    "from langchain_pinecone import PineconeVectorStore\n",
    "\n",
    "vector_store = PineconeVectorStore.from_documents(\n",
    "    documents = texts_chunk,\n",
    "    embedding = embedding,\n",
    "    index_name = index_name\n",
    ")"
   ]
  },
  {
   "cell_type": "code",
   "execution_count": null,
   "id": "c53f6201",
   "metadata": {},
   "outputs": [],
   "source": [
    "retriever = vector_store.as_retriever(search_type=\"similarity\", search_kwargs={\"k\": 3})"
   ]
  },
  {
   "cell_type": "code",
   "execution_count": null,
   "id": "8c70c904",
   "metadata": {},
   "outputs": [],
   "source": [
    "retriever_doc = retriever.invoke(\"Explain computer vision\")\n",
    "retriever_doc"
   ]
  },
  {
   "cell_type": "code",
   "execution_count": null,
   "id": "de41eb9f",
   "metadata": {},
   "outputs": [],
   "source": []
  },
  {
   "cell_type": "code",
   "execution_count": null,
   "id": "7dbcada0",
   "metadata": {},
   "outputs": [],
   "source": [
    "class OpenRouterChat(BaseChatModel):\n",
    "    \"\"\"Custom LangChain ChatModel for OpenRouter API\"\"\"\n",
    "    url = \"https://openrouter.ai/api/v1/chat/completions\"\n",
    "\n",
    "    def __init__(self, api_key: str, model_name: str = \"openai/gpt-4o\"):\n",
    "        super().__init__()\n",
    "        self.api_key = api_key\n",
    "        self.model_name = model_name\n",
    "\n",
    "    def _call(self, messages, **kwargs):\n",
    "        headers = {\n",
    "            \"Authorization\": f\"Bearer {self.api_key}\",\n",
    "            \"Content-Type\": \"application/json\",\n",
    "        }\n",
    "\n",
    "        data = {\n",
    "            \"model\": self.model_name,\n",
    "            \"messages\": [{\"role\": m.type, \"content\": m.content} for m in messages],\n",
    "        }\n",
    "\n",
    "        response = requests.post(self.url, headers=headers, json=data)\n",
    "        if response.status_code != 200:\n",
    "            raise Exception(f\"OpenRouter API error: {response.text}\")\n",
    "\n",
    "        content = response.json()[\"choices\"][0][\"message\"][\"content\"]\n",
    "        return content\n",
    "\n",
    "    @property\n",
    "    def _llm_type(self):\n",
    "        return \"openrouter-chat\"\n",
    "\n",
    "# Initialize the OpenRouter Chat Model\n",
    "ChatModel = OpenRouterChat(api_key=OPENROUTER_API_KEY, model_name=\"openai/gpt-4o\")"
   ]
  },
  {
   "cell_type": "code",
   "execution_count": null,
   "id": "7fe0e872",
   "metadata": {},
   "outputs": [],
   "source": [
    "from langchain.chains import create_retrieval_chain\n",
    "from langchain.chains.combine_documents import create_stuff_documents_chain\n",
    "from langchain_core.prompts import ChatPromptTemplate "
   ]
  },
  {
   "cell_type": "code",
   "execution_count": null,
   "id": "7be0053c",
   "metadata": {},
   "outputs": [],
   "source": [
    "system_prompt = (\n",
    "    \"You are a friendly, expert educational assistant. Your goal is to provide \"\n",
    "    \"clear and accurate information to a student.\"\n",
    "    \"Use ONLY the following pieces of retrieved context to answer the question. \"\n",
    "    \"If the context does not contain the answer, politely say that you don't \"\n",
    "    \"have the necessary information to answer that question.\"\n",
    "    \"Keep your answer to a maximum of three concise sentences.\"\n",
    "    \"\\n\\n\"\n",
    "    \"{context}\"\n",
    ")\n",
    "\n",
    "prompt = ChatPromptTemplate.from_messages(\n",
    "    [\n",
    "        (\"system\", system_prompt),\n",
    "        (\"human\", \"{input}\")   \n",
    "    ] \n",
    ")"
   ]
  },
  {
   "cell_type": "code",
   "execution_count": null,
   "id": "9ca49518",
   "metadata": {},
   "outputs": [],
   "source": [
    "question_answering_chain = create_stuff_documents_chain(ChatModel, prompt)\n",
    "rag_chain = create_retrieval_chain(retriever, question_answering_chain)"
   ]
  },
  {
   "cell_type": "code",
   "execution_count": null,
   "id": "900ecd34",
   "metadata": {},
   "outputs": [],
   "source": [
    "try:\n",
    "\tresponse = rag_chain.invoke({\"input\": \"What is Computational Thinking?\"})\n",
    "\tprint(response[\"answer\"])\n",
    "except Exception as e:\n",
    "\tif \"insufficient_quota\" in str(e) or \"429\" in str(e):\n",
    "\t\tprint(\"DEEPSEEK AI API quota exceeded. Please check your DEEPSEEK AI account billing and quota.\")\n",
    "\telse:\n",
    "\t\traise"
   ]
  },
  {
   "cell_type": "code",
   "execution_count": null,
   "id": "67de5116",
   "metadata": {},
   "outputs": [],
   "source": [
    "print(DEEPSEEK_API_KEY)"
   ]
  },
  {
   "cell_type": "code",
   "execution_count": null,
   "id": "084884a4",
   "metadata": {},
   "outputs": [],
   "source": []
  }
 ],
 "metadata": {
  "kernelspec": {
   "display_name": "edubot",
   "language": "python",
   "name": "python3"
  },
  "language_info": {
   "codemirror_mode": {
    "name": "ipython",
    "version": 3
   },
   "file_extension": ".py",
   "mimetype": "text/x-python",
   "name": "python",
   "nbconvert_exporter": "python",
   "pygments_lexer": "ipython3",
   "version": "3.10.18"
  }
 },
 "nbformat": 4,
 "nbformat_minor": 5
}
